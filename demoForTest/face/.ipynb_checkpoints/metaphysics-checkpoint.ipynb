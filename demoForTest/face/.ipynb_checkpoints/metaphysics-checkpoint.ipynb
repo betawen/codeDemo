{
 "cells": [
  {
   "cell_type": "markdown",
   "metadata": {},
   "source": [
    "# 这个是基础版本，成品为metaphysics.py"
   ]
  },
  {
   "cell_type": "code",
   "execution_count": 13,
   "metadata": {
    "collapsed": true
   },
   "outputs": [],
   "source": [
    "def FindMaxShape(face_shapes):\n",
    "    shape = max(face_shapes, key=lambda x: x['probability'])\n",
    "    return shape\n"
   ]
  },
  {
   "cell_type": "markdown",
   "metadata": {},
   "source": [
    "* 本来就是个玄学的东西，如果检测出了错就直接按照片里能检测到的第一个人脸来算命了\n",
    "* 后期可能改为报错"
   ]
  },
  {
   "cell_type": "code",
   "execution_count": 14,
   "metadata": {
    "collapsed": true
   },
   "outputs": [],
   "source": [
    "def FindPerson(info, req):\n",
    "    info = deepcopy(info)\n",
    "    result = info['result']\n",
    "    if not result:\n",
    "        return False\n",
    "    baby = result.pop(result.index(min(result, key=lambda x: x['age'])))\n",
    "    if req == 'baby':\n",
    "        return baby\n",
    "    women = [x for x in result if x['gender'] == 'female']\n",
    "    if req == 'mother':\n",
    "        if women:\n",
    "            mother = result.pop(result.index(min(women, key=lambda x: x['age'])))\n",
    "            return mother\n",
    "        else:\n",
    "            return result[0]\n",
    "    men = [x for x in result if x['gender'] == 'male']\n",
    "    if req == 'father':\n",
    "        if men:\n",
    "            father = result.pop(result.index(min(men, key=lambda x: x['age'])))\n",
    "            return father\n",
    "        else:\n",
    "            return result[0]\n"
   ]
  },
  {
   "cell_type": "markdown",
   "metadata": {},
   "source": [
    "#### 种子随机数生成器"
   ]
  },
  {
   "cell_type": "code",
   "execution_count": 15,
   "metadata": {
    "collapsed": true
   },
   "outputs": [],
   "source": [
    "def seed_random(seed,where):\n",
    "    random.seed(seed)\n",
    "    return random.randrange(where[0],where[1])\n"
   ]
  },
  {
   "cell_type": "markdown",
   "metadata": {},
   "source": [
    "#### 随机选择器"
   ]
  },
  {
   "cell_type": "code",
   "execution_count": 16,
   "metadata": {
    "collapsed": true
   },
   "outputs": [],
   "source": [
    "def random_choose(ori_list, num, seed = 1):\n",
    "    new_list = []\n",
    "    ori_list = deepcopy(ori_list)\n",
    "    i = 0\n",
    "    while i < num:\n",
    "        length = len(ori_list)\n",
    "        index = seed_random(seed, [0, length-1])\n",
    "        new_list.append(ori_list.pop(index))\n",
    "        i+=1\n",
    "    return new_list\n"
   ]
  },
  {
   "cell_type": "code",
   "execution_count": 17,
   "metadata": {
    "collapsed": true
   },
   "outputs": [],
   "source": [
    "from aip import AipFace as af\n",
    "from copy import deepcopy\n",
    "import random\n",
    "import csv\n",
    "import os\n",
    "import re"
   ]
  },
  {
   "cell_type": "code",
   "execution_count": 18,
   "metadata": {
    "collapsed": true
   },
   "outputs": [],
   "source": [
    "options = {}\n",
    "face_fields = set()\n",
    "result = {}\n",
    "character = []"
   ]
  },
  {
   "cell_type": "markdown",
   "metadata": {},
   "source": [
    "### options：\n",
    "\n",
    "* max_face_num：最大人脸张数\n",
    "* face_fields：包含age,beauty,expression,faceshape,gender,glasses,landmark,race,qualities"
   ]
  },
  {
   "cell_type": "code",
   "execution_count": 19,
   "metadata": {
    "collapsed": true
   },
   "outputs": [],
   "source": [
    "APP_ID = '10848675'\n",
    "API_KEY = '5FM7SOoluIaa6dAjSHnAtVlc'\n",
    "SECRET_KEY = '77qujtyZ3gag5XjVAnKmrlsDyd8DSd6h'"
   ]
  },
  {
   "cell_type": "code",
   "execution_count": 20,
   "metadata": {
    "collapsed": true
   },
   "outputs": [],
   "source": [
    "client = af(APP_ID, API_KEY, SECRET_KEY)"
   ]
  },
  {
   "cell_type": "markdown",
   "metadata": {},
   "source": [
    "### 传入参数：\n",
    "* imagepath：图像文件路径\n",
    "* person_req：需要算命/面相比较的人(baby/mother/father,[compare=mother/father])\n",
    "* [age]：宝宝年龄\n",
    "* [gender]：宝宝性别('male'/'female')"
   ]
  },
  {
   "cell_type": "code",
   "execution_count": 21,
   "metadata": {
    "collapsed": true
   },
   "outputs": [],
   "source": [
    "imagepath = \"../sources/a8.jpg\"\n",
    "person_req = 'baby'\n",
    "compare = ''\n",
    "gender = 'male'\n",
    "age = 30\n",
    "with open(imagepath,'rb') as imagefile:\n",
    "    image = imagefile.read()"
   ]
  },
  {
   "cell_type": "code",
   "execution_count": 22,
   "metadata": {
    "collapsed": true
   },
   "outputs": [],
   "source": [
    "max_face_num = 2\n",
    "face_fields.clear()\n",
    "face_fields.add(\"age\")\n",
    "face_fields.add(\"beauty\")\n",
    "face_fields.add(\"expression\")\n",
    "face_fields.add(\"faceshape\")\n",
    "face_fields.add(\"gender\")"
   ]
  },
  {
   "cell_type": "code",
   "execution_count": 23,
   "metadata": {},
   "outputs": [
    {
     "name": "stdout",
     "output_type": "stream",
     "text": [
      "faceshape,gender,beauty,expression,age\n"
     ]
    }
   ],
   "source": [
    "options[\"max_face_num\"] = max_face_num\n",
    "options[\"face_fields\"] = str(face_fields)[1:-1].replace(\"'\", '').replace(\" \", \"\")\n",
    "print(options[\"face_fields\"])"
   ]
  },
  {
   "cell_type": "markdown",
   "metadata": {},
   "source": [
    "* 以下是原始数据"
   ]
  },
  {
   "cell_type": "code",
   "execution_count": 24,
   "metadata": {
    "collapsed": true,
    "scrolled": true
   },
   "outputs": [],
   "source": [
    "info = client.detect(image,options)"
   ]
  },
  {
   "cell_type": "code",
   "execution_count": 25,
   "metadata": {
    "scrolled": false
   },
   "outputs": [
    {
     "data": {
      "text/plain": [
       "{'log_id': 3492054355022611,\n",
       " 'result': [{'age': 24,\n",
       "   'beauty': 39.056083679199,\n",
       "   'expression': 1,\n",
       "   'expression_probablity': 0.99687296152115,\n",
       "   'face_probability': 1,\n",
       "   'faceshape': [{'probability': 0.007112056016922, 'type': 'square'},\n",
       "    {'probability': 0.41118904948235, 'type': 'triangle'},\n",
       "    {'probability': 0.32358628511429, 'type': 'oval'},\n",
       "    {'probability': 0.0083341374993324, 'type': 'heart'},\n",
       "    {'probability': 0.24977847933769, 'type': 'round'}],\n",
       "   'gender': 'female',\n",
       "   'gender_probability': 0.62418115139008,\n",
       "   'location': {'height': 153, 'left': 181, 'top': 569, 'width': 167},\n",
       "   'pitch': 5.6835865974426,\n",
       "   'roll': -96.498985290527,\n",
       "   'rotation_angle': -96,\n",
       "   'yaw': -0.17458160221577}],\n",
       " 'result_num': 1}"
      ]
     },
     "execution_count": 25,
     "metadata": {},
     "output_type": "execute_result"
    }
   ],
   "source": [
    "info"
   ]
  },
  {
   "cell_type": "markdown",
   "metadata": {},
   "source": [
    "* 以下是需要算命的人的数据"
   ]
  },
  {
   "cell_type": "code",
   "execution_count": 26,
   "metadata": {
    "collapsed": true
   },
   "outputs": [],
   "source": [
    "person = FindPerson(info, person_req)"
   ]
  },
  {
   "cell_type": "code",
   "execution_count": 27,
   "metadata": {
    "scrolled": false
   },
   "outputs": [
    {
     "data": {
      "text/plain": [
       "{'age': 24,\n",
       " 'beauty': 39.056083679199,\n",
       " 'expression': 1,\n",
       " 'expression_probablity': 0.99687296152115,\n",
       " 'face_probability': 1,\n",
       " 'faceshape': [{'probability': 0.007112056016922, 'type': 'square'},\n",
       "  {'probability': 0.41118904948235, 'type': 'triangle'},\n",
       "  {'probability': 0.32358628511429, 'type': 'oval'},\n",
       "  {'probability': 0.0083341374993324, 'type': 'heart'},\n",
       "  {'probability': 0.24977847933769, 'type': 'round'}],\n",
       " 'gender': 'female',\n",
       " 'gender_probability': 0.62418115139008,\n",
       " 'location': {'height': 153, 'left': 181, 'top': 569, 'width': 167},\n",
       " 'pitch': 5.6835865974426,\n",
       " 'roll': -96.498985290527,\n",
       " 'rotation_angle': -96,\n",
       " 'yaw': -0.17458160221577}"
      ]
     },
     "execution_count": 27,
     "metadata": {},
     "output_type": "execute_result"
    }
   ],
   "source": [
    "person"
   ]
  },
  {
   "cell_type": "markdown",
   "metadata": {},
   "source": [
    "#### 以下各数据仅在person_req为baby时有效"
   ]
  },
  {
   "cell_type": "code",
   "execution_count": 28,
   "metadata": {
    "collapsed": true
   },
   "outputs": [],
   "source": [
    "beauty = person['beauty']"
   ]
  },
  {
   "cell_type": "markdown",
   "metadata": {},
   "source": [
    "### 脸型\n",
    "* 圆脸(round)：圆型脸的人乐观爽朗，容易与人相处，人际关系非常好，因富同情心，也比较容易受到异性的诱惑。\n",
    "* 三角脸(triangle)：有很强的企图心与爆发力，也是一个充满智慧、记忆力很强的人。\n",
    "* 方脸(square)：给人一种干净利落的感觉，处处流露出丝丝庄重、威严的气息，拥有很高的智慧及敏锐的观察力，甚至具有超乎常人的第六感。\n",
    "* 蛋型脸(oval)：完美主义者，严以律己、宽以待人。\n",
    "* 心型脸(heart)：活力充沛，行动力和创造力极强，能让生活过得非常充实，多采多姿。"
   ]
  },
  {
   "cell_type": "code",
   "execution_count": 29,
   "metadata": {
    "collapsed": true
   },
   "outputs": [],
   "source": [
    "face_shape = FindMaxShape(person['faceshape'])['type']"
   ]
  },
  {
   "cell_type": "code",
   "execution_count": 30,
   "metadata": {},
   "outputs": [
    {
     "data": {
      "text/plain": [
       "'triangle'"
      ]
     },
     "execution_count": 30,
     "metadata": {},
     "output_type": "execute_result"
    }
   ],
   "source": [
    "face_shape"
   ]
  },
  {
   "cell_type": "code",
   "execution_count": 31,
   "metadata": {
    "collapsed": true
   },
   "outputs": [],
   "source": [
    "face_shape_data = {\n",
    "    'round': ['乐观', '博爱'],\n",
    "    'triangle': ['博闻强记', '潜力股'],\n",
    "    'square': ['稳健', '威严', '细致'],\n",
    "    'oval': ['严谨', '服众'],\n",
    "    'heart': ['活跃', '亲和']\n",
    "}"
   ]
  },
  {
   "cell_type": "code",
   "execution_count": 32,
   "metadata": {},
   "outputs": [
    {
     "data": {
      "text/plain": [
       "{'heart': ['活跃', '亲和'],\n",
       " 'oval': ['严谨', '服众'],\n",
       " 'round': ['乐观', '博爱'],\n",
       " 'square': ['稳健', '威严', '细致'],\n",
       " 'triangle': ['博闻强记', '潜力股']}"
      ]
     },
     "execution_count": 32,
     "metadata": {},
     "output_type": "execute_result"
    }
   ],
   "source": [
    "face_shape_data"
   ]
  },
  {
   "cell_type": "markdown",
   "metadata": {},
   "source": [
    "### 笑容等级\n",
    "* 0 没笑：稳健\n",
    "* 1 微笑：亲和\n",
    "* 2 大笑：乐观"
   ]
  },
  {
   "cell_type": "code",
   "execution_count": 33,
   "metadata": {
    "collapsed": true
   },
   "outputs": [],
   "source": [
    "laugh_level = info['result'][0]['expression']"
   ]
  },
  {
   "cell_type": "code",
   "execution_count": 34,
   "metadata": {},
   "outputs": [
    {
     "data": {
      "text/plain": [
       "1"
      ]
     },
     "execution_count": 34,
     "metadata": {},
     "output_type": "execute_result"
    }
   ],
   "source": [
    "laugh_level"
   ]
  },
  {
   "cell_type": "code",
   "execution_count": 35,
   "metadata": {
    "collapsed": true
   },
   "outputs": [],
   "source": [
    "laugh_data = {\n",
    "    '0':['稳健', '文静', '理智'],\n",
    "    '1':['亲和', '温柔', '知性'],\n",
    "    '2':['乐观', '天真', '大方']\n",
    "}"
   ]
  },
  {
   "cell_type": "code",
   "execution_count": 36,
   "metadata": {},
   "outputs": [
    {
     "data": {
      "text/plain": [
       "{'0': ['稳健', '文静', '理智'], '1': ['亲和', '温柔', '知性'], '2': ['乐观', '天真', '大方']}"
      ]
     },
     "execution_count": 36,
     "metadata": {},
     "output_type": "execute_result"
    }
   ],
   "source": [
    "laugh_data"
   ]
  },
  {
   "cell_type": "markdown",
   "metadata": {},
   "source": [
    "### 预测年龄\n",
    "* 实际年龄比预测的偏大：坚定的眼神，将来肯定是个稳健的人emmmm\n",
    "* 比预测的偏小：天真……"
   ]
  },
  {
   "cell_type": "code",
   "execution_count": 37,
   "metadata": {
    "collapsed": true
   },
   "outputs": [],
   "source": [
    "predict_age = info['result'][0]['age']"
   ]
  },
  {
   "cell_type": "code",
   "execution_count": 38,
   "metadata": {},
   "outputs": [
    {
     "data": {
      "text/plain": [
       "24"
      ]
     },
     "execution_count": 38,
     "metadata": {},
     "output_type": "execute_result"
    }
   ],
   "source": [
    "predict_age"
   ]
  },
  {
   "cell_type": "code",
   "execution_count": 39,
   "metadata": {
    "collapsed": true
   },
   "outputs": [],
   "source": [
    "if age == 1:\n",
    "    if laugh_level == 0:\n",
    "        age_type = 'older'\n",
    "    elif laugh_level == 2:\n",
    "        age_type = 'younger'\n",
    "    else:\n",
    "        age_type = 'same'\n",
    "else:\n",
    "    if age > predict_age:\n",
    "        age_type = 'older'\n",
    "    elif age < predict_age:\n",
    "        age_type = 'younger'\n",
    "    else:\n",
    "        age_type = 'same'\n",
    "        "
   ]
  },
  {
   "cell_type": "code",
   "execution_count": 40,
   "metadata": {
    "collapsed": true
   },
   "outputs": [],
   "source": [
    "age_data = {\n",
    "    'older': '你像颗种子，勇敢地冲破泥沙，将嫩绿的幼芽伸出地面，指向天空。',\n",
    "    'younger': '成长的过程就是破茧为蝶，挣扎着褪掉所有的青涩，在阳光下抖动轻盈美丽的翅膀，闪闪的，微微的，幸福的颤抖',\n",
    "    'same': '你是泊于青春的港口的一叶小舟，扬起信念的帆，载着希望的梦，驶向辽阔的海洋。'\n",
    "}"
   ]
  },
  {
   "cell_type": "markdown",
   "metadata": {},
   "source": [
    "### Output format:\n",
    "{'character': [c1,c2,c3], 'suggestion': 'sentence', 'future': 'sentence', 'special': 'sentence'}"
   ]
  },
  {
   "cell_type": "markdown",
   "metadata": {},
   "source": [
    "#### 对应age_data"
   ]
  },
  {
   "cell_type": "code",
   "execution_count": 41,
   "metadata": {
    "collapsed": true
   },
   "outputs": [],
   "source": [
    "result['future'] = age_data[str(age_type)]"
   ]
  },
  {
   "cell_type": "code",
   "execution_count": 42,
   "metadata": {
    "collapsed": true
   },
   "outputs": [],
   "source": [
    "character.clear()\n",
    "character.extend(laugh_data[str(laugh_level)])\n",
    "character.extend(face_shape_data[str(face_shape)])\n",
    "buf = deepcopy(character)\n",
    "character = list(set(character))\n",
    "character.sort(key=buf.index)\n",
    "character = random_choose(character, 3, seed = beauty)"
   ]
  },
  {
   "cell_type": "code",
   "execution_count": 43,
   "metadata": {},
   "outputs": [
    {
     "data": {
      "text/plain": [
       "['博闻强记', '温柔', '知性']"
      ]
     },
     "execution_count": 43,
     "metadata": {},
     "output_type": "execute_result"
    }
   ],
   "source": [
    "character"
   ]
  },
  {
   "cell_type": "code",
   "execution_count": 44,
   "metadata": {
    "collapsed": true
   },
   "outputs": [],
   "source": [
    "result['character'] = character"
   ]
  },
  {
   "cell_type": "markdown",
   "metadata": {},
   "source": [
    "#### 对应算命文件"
   ]
  },
  {
   "cell_type": "code",
   "execution_count": 45,
   "metadata": {},
   "outputs": [],
   "source": [
    "try:\n",
    "    special_file = open('special','r')\n",
    "except:\n",
    "    raise('文件已损坏:\"special\"')\n",
    "else:\n",
    "    special_data = dict(csv.reader(special_file))\n",
    "finally:\n",
    "    if special_file:\n",
    "        special_file.close()"
   ]
  },
  {
   "cell_type": "code",
   "execution_count": 46,
   "metadata": {},
   "outputs": [
    {
     "data": {
      "text/plain": [
       "{'1': '时逢春回日，百花正及时。得人轻借力，便是运通时。',\n",
       " '10': '无忧季子运昌隆，欢名遂意后十年。',\n",
       " '11': '生来不是等闲人，龙跃于渊屈可伸，只是水浅遭虾戏，一朝飞腾上青云。',\n",
       " '12': '此数生来格局奇，明经出任耀门楣，先三甲日幸乃吉，后甲三日乃昌。',\n",
       " '13': '环环财源如水，洋洋家计如春。片帆无恙，长江一夕遇春风。',\n",
       " '14': '功名应有份，尤须自厚培。',\n",
       " '15': '束身修德，自无骞难之虞。幸有贵人成鼎业，晚来享福度余年，寿及古稀。',\n",
       " '16': '行善度流年，万事皆安然。',\n",
       " '2': '风云际功名遂，姓字沾恩雨露深。绛帐掬泉名士客，不是儒林即杏林。',\n",
       " '3': '福自天来，事不须求。年当大有为，富丽好时光。',\n",
       " '4': '时享运又通，镇日笑春风。',\n",
       " '5': '人和人和，原本安乐值钱多。',\n",
       " '6': '谋定无忧，贵人点头。今时还是旧时人，人事如今又一新。',\n",
       " '7': '烟霞绕水网未收，江头也可试魚钩。',\n",
       " '8': '诗书易习步青云，命定科甲二榜荣。',\n",
       " '9': '重山之外问黄金，逐逐泥途有一惊。'}"
      ]
     },
     "execution_count": 46,
     "metadata": {},
     "output_type": "execute_result"
    }
   ],
   "source": [
    "special_data"
   ]
  },
  {
   "cell_type": "code",
   "execution_count": 47,
   "metadata": {
    "collapsed": true
   },
   "outputs": [],
   "source": [
    "    special_number = seed_random(beauty+1,[1,16])\n",
    "    result['special'] = special_data[str(special_number)]"
   ]
  },
  {
   "cell_type": "code",
   "execution_count": 48,
   "metadata": {},
   "outputs": [
    {
     "data": {
      "text/plain": [
       "{'character': ['博闻强记', '温柔', '知性'],\n",
       " 'future': '你像颗种子，勇敢地冲破泥沙，将嫩绿的幼芽伸出地面，指向天空。',\n",
       " 'special': '福自天来，事不须求。年当大有为，富丽好时光。'}"
      ]
     },
     "execution_count": 48,
     "metadata": {},
     "output_type": "execute_result"
    }
   ],
   "source": [
    "result"
   ]
  },
  {
   "cell_type": "code",
   "execution_count": null,
   "metadata": {
    "collapsed": true
   },
   "outputs": [],
   "source": []
  }
 ],
 "metadata": {
  "kernelspec": {
   "display_name": "Python 3",
   "language": "python",
   "name": "python3"
  },
  "language_info": {
   "codemirror_mode": {
    "name": "ipython",
    "version": 3
   },
   "file_extension": ".py",
   "mimetype": "text/x-python",
   "name": "python",
   "nbconvert_exporter": "python",
   "pygments_lexer": "ipython3",
   "version": "3.7.3"
  }
 },
 "nbformat": 4,
 "nbformat_minor": 2
}
